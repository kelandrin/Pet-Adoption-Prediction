{
 "cells": [
  {
   "cell_type": "markdown",
   "metadata": {},
   "source": [
    "### filter train data by the pictures in 10k"
   ]
  },
  {
   "cell_type": "code",
   "execution_count": 1,
   "metadata": {},
   "outputs": [],
   "source": [
    "train = pd.read_csv('train/train.csv')\n",
    "pets_to_use = pd.read_csv('Which_pets_to_use.csv')\n",
    "train = train[train['PetID'].isin(pets_to_use.id.values.tolist())]\n",
    "pets_to_use.loc[(pets_to_use.counts > 5),'counts']= 5"
   ]
  },
  {
   "cell_type": "markdown",
   "metadata": {},
   "source": [
    "### Code used to get 10k pics to use (full pics from each post unless post contains > 5, then keep at 5)"
   ]
  },
  {
   "cell_type": "code",
   "execution_count": 2,
   "metadata": {},
   "outputs": [],
   "source": [
    "USED TO CREATE Which_pets_to_use.csv\n",
    "\n",
    "\n",
    "#Gets a list of all of the file names for the pictures\n",
    "def get_list_of_filenames(path:str) -> tuple:\n",
    "    #dictionary = defaultdict(list)\n",
    "    files = []\n",
    "    ids = []\n",
    "    for filename in os.listdir(path):\n",
    "        if filename != '.DS_Store' and filename != '.ipynb_checkpoints' : #was not running due to a .ds_store file so I left it out\n",
    "            files.append(path + '/' + filename)\n",
    "            ids.append(filename[0:9])\n",
    "\n",
    "\n",
    "    return (files,ids)\n",
    "\n",
    "train = pd.read_csv('train/train.csv')\n",
    "print(len(train))\n",
    "count = 0\n",
    "list_tried = []\n",
    "pets_to_use = []\n",
    "counts = []\n",
    "while count <= 10000:\n",
    "    x = random.randint(0,len(train)-1)\n",
    "    if x in list_tried:\n",
    "        pass\n",
    "    else:\n",
    "        pet = train.PetID[x]\n",
    "        pets_to_use.append(pet)\n",
    "        counts.append(train.PhotoAmt[x])\n",
    "        list_tried.append(x)\n",
    "        if train.PhotoAmt[x] >5:\n",
    "            count += 5\n",
    "        else:\n",
    "            count += train.PhotoAmt[x]\n",
    "        print(count)\n",
    "        \n",
    "print(len(list_tried))\n",
    "print(len(pets_to_use))\n",
    "df = pd.DataFrame([counts,list_tried,pets_to_use])\n",
    "df = df.T\n",
    "df.columns = ['counts','index','id']\n",
    "df.to_csv('Which_pets_to_use.csv')\n",
    "\n",
    "train = pd.read_csv('train/train.csv')\n",
    "pets_to_use = pd.read_csv('Which_pets_to_use.csv')\n",
    "train = train[train['PetID'].isin(pets_to_use.id.values.tolist())]\n",
    "pets_to_use.loc[(pets_to_use.counts > 5),'counts']= 5\n",
    "\n",
    "files,ids = get_list_of_filenames('train_images')\n",
    "filtered_files = []\n",
    "for id in pets_to_use.id.values:\n",
    "    result = [i for i in files if id in i]\n",
    "    if len(result)>5:\n",
    "        result = result[:5]\n",
    "        print(result)\n",
    "        for j in result[0:5]:\n",
    "            filtered_files.append(j)\n",
    "    else:\n",
    "        for j in result:\n",
    "            filtered_files.append(j)\n",
    " \n",
    "    \n",
    "print(len(filtered_files))\n",
    "files = pd.DataFrame(filtered_files,columns = ['files'])\n",
    "files.to_csv('10k_files.csv')"
   ]
  },
  {
   "cell_type": "code",
   "execution_count": null,
   "metadata": {},
   "outputs": [],
   "source": []
  }
 ],
 "metadata": {
  "kernelspec": {
   "display_name": "Python 3",
   "language": "python",
   "name": "python3"
  },
  "language_info": {
   "codemirror_mode": {
    "name": "ipython",
    "version": 3
   },
   "file_extension": ".py",
   "mimetype": "text/x-python",
   "name": "python",
   "nbconvert_exporter": "python",
   "pygments_lexer": "ipython3",
   "version": "3.6.2"
  }
 },
 "nbformat": 4,
 "nbformat_minor": 2
}
